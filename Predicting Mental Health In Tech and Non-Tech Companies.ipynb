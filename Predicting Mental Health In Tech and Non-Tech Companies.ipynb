{
 "cells": [
  {
   "cell_type": "markdown",
   "id": "321ffb58",
   "metadata": {},
   "source": [
    "# CAPSTONE PROJECT - 2\n",
    "##    \n",
    "# Prediction Of Mental Health In Tech and Non-Tech Companies\n",
    "##   "
   ]
  },
  {
   "cell_type": "markdown",
   "id": "874e4dc1",
   "metadata": {},
   "source": [
    "###  \n",
    "## Importing Required Libraries\n",
    "###  "
   ]
  },
  {
   "cell_type": "code",
   "execution_count": 1,
   "id": "d5ca72a9",
   "metadata": {},
   "outputs": [],
   "source": [
    "import numpy as np\n",
    "import pandas as pd\n",
    "\n",
    "import matplotlib.pyplot as plt\n",
    "\n",
    "plt.style.use('dark_background')\n",
    "\n",
    "import seaborn as sns\n",
    "\n",
    "from sklearn.preprocessing import StandardScaler\n",
    "from sklearn.model_selection import train_test_split\n",
    "from sklearn.metrics import precision_score\n",
    "from sklearn.metrics import recall_score\n",
    "from sklearn.metrics import f1_score"
   ]
  },
  {
   "cell_type": "markdown",
   "id": "666cfc4b",
   "metadata": {},
   "source": [
    "###  \n",
    "## Reading CSV File (Dataset)\n",
    "###  "
   ]
  },
  {
   "cell_type": "code",
   "execution_count": 3,
   "id": "5fe8dc67",
   "metadata": {},
   "outputs": [
    {
     "data": {
      "text/html": [
       "<div>\n",
       "<style scoped>\n",
       "    .dataframe tbody tr th:only-of-type {\n",
       "        vertical-align: middle;\n",
       "    }\n",
       "\n",
       "    .dataframe tbody tr th {\n",
       "        vertical-align: top;\n",
       "    }\n",
       "\n",
       "    .dataframe thead th {\n",
       "        text-align: right;\n",
       "    }\n",
       "</style>\n",
       "<table border=\"1\" class=\"dataframe\">\n",
       "  <thead>\n",
       "    <tr style=\"text-align: right;\">\n",
       "      <th></th>\n",
       "      <th>*Are you self-employed?*</th>\n",
       "      <th>How many employees does your company or organization have?</th>\n",
       "      <th>Is your employer primarily a tech company/organization?</th>\n",
       "      <th>Is your primary role within your company related to tech/IT?</th>\n",
       "      <th>Does your employer provide mental health benefits as part of healthcare coverage?</th>\n",
       "      <th>Do you know the options for mental health care available under your employer-provided health coverage?</th>\n",
       "      <th>Has your employer ever formally discussed mental health (for example, as part of a wellness campaign or other official communication)?</th>\n",
       "      <th>Does your employer offer resources to learn more about mental health disorders and options for seeking help?</th>\n",
       "      <th>Is your anonymity protected if you choose to take advantage of mental health or substance abuse treatment resources provided by your employer?</th>\n",
       "      <th>If a mental health issue prompted you to request a medical leave from work, how easy or difficult would it be to ask for that leave?</th>\n",
       "      <th>...</th>\n",
       "      <th>Briefly describe what you think the industry as a whole and/or employers could do to improve mental health support for employees.</th>\n",
       "      <th>If there is anything else you would like to tell us that has not been covered by the survey questions, please use this space to do so.</th>\n",
       "      <th>Would you be willing to talk to one of us more extensively about your experiences with mental health issues in the tech industry? (Note that all interview responses would be used _anonymously_ and only with your permission.)</th>\n",
       "      <th>What is your age?</th>\n",
       "      <th>What is your gender?</th>\n",
       "      <th>What country do you *live* in?</th>\n",
       "      <th>What US state or territory do you *live* in?</th>\n",
       "      <th>What is your race?</th>\n",
       "      <th>What country do you *work* in?</th>\n",
       "      <th>What US state or territory do you *work* in?</th>\n",
       "    </tr>\n",
       "  </thead>\n",
       "  <tbody>\n",
       "    <tr>\n",
       "      <th>0</th>\n",
       "      <td>False</td>\n",
       "      <td>26-100</td>\n",
       "      <td>True</td>\n",
       "      <td>True</td>\n",
       "      <td>I don't know</td>\n",
       "      <td>No</td>\n",
       "      <td>Yes</td>\n",
       "      <td>Yes</td>\n",
       "      <td>I don't know</td>\n",
       "      <td>Very easy</td>\n",
       "      <td>...</td>\n",
       "      <td>NaN</td>\n",
       "      <td>NaN</td>\n",
       "      <td>False</td>\n",
       "      <td>25</td>\n",
       "      <td>Male</td>\n",
       "      <td>United States of America</td>\n",
       "      <td>Nebraska</td>\n",
       "      <td>White</td>\n",
       "      <td>United States of America</td>\n",
       "      <td>Nebraska</td>\n",
       "    </tr>\n",
       "    <tr>\n",
       "      <th>1</th>\n",
       "      <td>False</td>\n",
       "      <td>26-100</td>\n",
       "      <td>True</td>\n",
       "      <td>True</td>\n",
       "      <td>Yes</td>\n",
       "      <td>No</td>\n",
       "      <td>No</td>\n",
       "      <td>Yes</td>\n",
       "      <td>Yes</td>\n",
       "      <td>I don't know</td>\n",
       "      <td>...</td>\n",
       "      <td>NaN</td>\n",
       "      <td>NaN</td>\n",
       "      <td>False</td>\n",
       "      <td>51</td>\n",
       "      <td>male</td>\n",
       "      <td>United States of America</td>\n",
       "      <td>Nebraska</td>\n",
       "      <td>White</td>\n",
       "      <td>United States of America</td>\n",
       "      <td>Nebraska</td>\n",
       "    </tr>\n",
       "    <tr>\n",
       "      <th>2</th>\n",
       "      <td>False</td>\n",
       "      <td>26-100</td>\n",
       "      <td>True</td>\n",
       "      <td>True</td>\n",
       "      <td>I don't know</td>\n",
       "      <td>No</td>\n",
       "      <td>No</td>\n",
       "      <td>I don't know</td>\n",
       "      <td>I don't know</td>\n",
       "      <td>Somewhat difficult</td>\n",
       "      <td>...</td>\n",
       "      <td>I think opening up more conversation around th...</td>\n",
       "      <td>Thank you</td>\n",
       "      <td>True</td>\n",
       "      <td>27</td>\n",
       "      <td>Male</td>\n",
       "      <td>United States of America</td>\n",
       "      <td>Illinois</td>\n",
       "      <td>White</td>\n",
       "      <td>United States of America</td>\n",
       "      <td>Illinois</td>\n",
       "    </tr>\n",
       "    <tr>\n",
       "      <th>3</th>\n",
       "      <td>False</td>\n",
       "      <td>100-500</td>\n",
       "      <td>True</td>\n",
       "      <td>True</td>\n",
       "      <td>I don't know</td>\n",
       "      <td>No</td>\n",
       "      <td>Yes</td>\n",
       "      <td>Yes</td>\n",
       "      <td>Yes</td>\n",
       "      <td>Very easy</td>\n",
       "      <td>...</td>\n",
       "      <td>NaN</td>\n",
       "      <td>NaN</td>\n",
       "      <td>False</td>\n",
       "      <td>37</td>\n",
       "      <td>male</td>\n",
       "      <td>United States of America</td>\n",
       "      <td>Nebraska</td>\n",
       "      <td>White</td>\n",
       "      <td>United States of America</td>\n",
       "      <td>Nebraska</td>\n",
       "    </tr>\n",
       "    <tr>\n",
       "      <th>4</th>\n",
       "      <td>False</td>\n",
       "      <td>26-100</td>\n",
       "      <td>True</td>\n",
       "      <td>True</td>\n",
       "      <td>I don't know</td>\n",
       "      <td>No</td>\n",
       "      <td>I don't know</td>\n",
       "      <td>I don't know</td>\n",
       "      <td>I don't know</td>\n",
       "      <td>I don't know</td>\n",
       "      <td>...</td>\n",
       "      <td>NaN</td>\n",
       "      <td>NaN</td>\n",
       "      <td>False</td>\n",
       "      <td>46</td>\n",
       "      <td>m</td>\n",
       "      <td>United States of America</td>\n",
       "      <td>Nebraska</td>\n",
       "      <td>White</td>\n",
       "      <td>United States of America</td>\n",
       "      <td>Nebraska</td>\n",
       "    </tr>\n",
       "  </tbody>\n",
       "</table>\n",
       "<p>5 rows × 82 columns</p>\n",
       "</div>"
      ],
      "text/plain": [
       "   *Are you self-employed?*  \\\n",
       "0                     False   \n",
       "1                     False   \n",
       "2                     False   \n",
       "3                     False   \n",
       "4                     False   \n",
       "\n",
       "  How many employees does your company or organization have?  \\\n",
       "0                                             26-100           \n",
       "1                                             26-100           \n",
       "2                                             26-100           \n",
       "3                                            100-500           \n",
       "4                                             26-100           \n",
       "\n",
       "  Is your employer primarily a tech company/organization?  \\\n",
       "0                                               True        \n",
       "1                                               True        \n",
       "2                                               True        \n",
       "3                                               True        \n",
       "4                                               True        \n",
       "\n",
       "  Is your primary role within your company related to tech/IT?  \\\n",
       "0                                               True             \n",
       "1                                               True             \n",
       "2                                               True             \n",
       "3                                               True             \n",
       "4                                               True             \n",
       "\n",
       "  Does your employer provide mental health benefits as part of healthcare coverage?  \\\n",
       "0                                       I don't know                                  \n",
       "1                                                Yes                                  \n",
       "2                                       I don't know                                  \n",
       "3                                       I don't know                                  \n",
       "4                                       I don't know                                  \n",
       "\n",
       "  Do you know the options for mental health care available under your employer-provided health coverage?  \\\n",
       "0                                                 No                                                       \n",
       "1                                                 No                                                       \n",
       "2                                                 No                                                       \n",
       "3                                                 No                                                       \n",
       "4                                                 No                                                       \n",
       "\n",
       "  Has your employer ever formally discussed mental health (for example, as part of a wellness campaign or other official communication)?  \\\n",
       "0                                                Yes                                                                                       \n",
       "1                                                 No                                                                                       \n",
       "2                                                 No                                                                                       \n",
       "3                                                Yes                                                                                       \n",
       "4                                       I don't know                                                                                       \n",
       "\n",
       "  Does your employer offer resources to learn more about mental health disorders and options for seeking help?  \\\n",
       "0                                                Yes                                                             \n",
       "1                                                Yes                                                             \n",
       "2                                       I don't know                                                             \n",
       "3                                                Yes                                                             \n",
       "4                                       I don't know                                                             \n",
       "\n",
       "  Is your anonymity protected if you choose to take advantage of mental health or substance abuse treatment resources provided by your employer?  \\\n",
       "0                                       I don't know                                                                                               \n",
       "1                                                Yes                                                                                               \n",
       "2                                       I don't know                                                                                               \n",
       "3                                                Yes                                                                                               \n",
       "4                                       I don't know                                                                                               \n",
       "\n",
       "  If a mental health issue prompted you to request a medical leave from work, how easy or difficult would it be to ask for that leave?  \\\n",
       "0                                          Very easy                                                                                     \n",
       "1                                       I don't know                                                                                     \n",
       "2                                 Somewhat difficult                                                                                     \n",
       "3                                          Very easy                                                                                     \n",
       "4                                       I don't know                                                                                     \n",
       "\n",
       "   ...  \\\n",
       "0  ...   \n",
       "1  ...   \n",
       "2  ...   \n",
       "3  ...   \n",
       "4  ...   \n",
       "\n",
       "  Briefly describe what you think the industry as a whole and/or employers could do to improve mental health support for employees.  \\\n",
       "0                                                NaN                                                                                  \n",
       "1                                                NaN                                                                                  \n",
       "2  I think opening up more conversation around th...                                                                                  \n",
       "3                                                NaN                                                                                  \n",
       "4                                                NaN                                                                                  \n",
       "\n",
       "  If there is anything else you would like to tell us that has not been covered by the survey questions, please use this space to do so.  \\\n",
       "0                                                NaN                                                                                       \n",
       "1                                                NaN                                                                                       \n",
       "2                                          Thank you                                                                                       \n",
       "3                                                NaN                                                                                       \n",
       "4                                                NaN                                                                                       \n",
       "\n",
       "  Would you be willing to talk to one of us more extensively about your experiences with mental health issues in the tech industry? (Note that all interview responses would be used _anonymously_ and only with your permission.)  \\\n",
       "0                                              False                                                                                                                                                                                 \n",
       "1                                              False                                                                                                                                                                                 \n",
       "2                                               True                                                                                                                                                                                 \n",
       "3                                              False                                                                                                                                                                                 \n",
       "4                                              False                                                                                                                                                                                 \n",
       "\n",
       "  What is your age? What is your gender? What country do you *live* in?  \\\n",
       "0                25                 Male       United States of America   \n",
       "1                51                 male       United States of America   \n",
       "2                27                 Male       United States of America   \n",
       "3                37                 male       United States of America   \n",
       "4                46                    m       United States of America   \n",
       "\n",
       "  What US state or territory do you *live* in? What is your race?  \\\n",
       "0                                     Nebraska              White   \n",
       "1                                     Nebraska              White   \n",
       "2                                     Illinois              White   \n",
       "3                                     Nebraska              White   \n",
       "4                                     Nebraska              White   \n",
       "\n",
       "  What country do you *work* in?  What US state or territory do you *work* in?  \n",
       "0       United States of America                                      Nebraska  \n",
       "1       United States of America                                      Nebraska  \n",
       "2       United States of America                                      Illinois  \n",
       "3       United States of America                                      Nebraska  \n",
       "4       United States of America                                      Nebraska  \n",
       "\n",
       "[5 rows x 82 columns]"
      ]
     },
     "execution_count": 3,
     "metadata": {},
     "output_type": "execute_result"
    }
   ],
   "source": [
    "df = pd.read_csv(\"C:/rishabh's space/IIIT BHAGALPUR M.TECH/Course Work Assignments and Various Files/SEM 2/Capstone Project 2/data.csv\")\n",
    "df.head()"
   ]
  },
  {
   "cell_type": "markdown",
   "id": "895d075b",
   "metadata": {},
   "source": [
    "###  \n",
    "## Data Cleaning\n",
    "###  "
   ]
  },
  {
   "cell_type": "markdown",
   "id": "36c894bc",
   "metadata": {},
   "source": [
    "###  \n",
    "### Droping all columns except the selected features and the target attribute(value to be predicted)\n",
    "###  "
   ]
  },
  {
   "cell_type": "code",
   "execution_count": 4,
   "id": "6f090d52",
   "metadata": {},
   "outputs": [
    {
     "name": "stderr",
     "output_type": "stream",
     "text": [
      "C:\\Users\\risha\\AppData\\Local\\Temp\\ipykernel_12028\\784728507.py:1: FutureWarning: In a future version of pandas all arguments of DataFrame.drop except for the argument 'labels' will be keyword-only.\n",
      "  df.drop(df.columns.difference(['Is your employer primarily a tech company/organization?',\n"
     ]
    }
   ],
   "source": [
    "df.drop(df.columns.difference(['Is your employer primarily a tech company/organization?',\t\n",
    "                               'What is your age?',\n",
    "                               'What is your gender?',\n",
    "                               'Do you have a family history of mental illness?',\n",
    "                               'Have you had a mental health disorder in the past?',\n",
    "                               'Does your employer offer resources to learn more about mental health disorders and options for seeking help?',\n",
    "                               'Has your employer ever formally discussed mental health (for example, as part of a wellness campaign or other official communication)?',\n",
    "                               'Do you *currently* have a mental health disorder?']), 1, inplace=True)"
   ]
  },
  {
   "cell_type": "markdown",
   "id": "99507527",
   "metadata": {},
   "source": [
    "###  \n",
    "### Displaying the modified data\n",
    "###  "
   ]
  },
  {
   "cell_type": "code",
   "execution_count": 5,
   "id": "9e39c689",
   "metadata": {
    "scrolled": true
   },
   "outputs": [
    {
     "data": {
      "text/html": [
       "<div>\n",
       "<style scoped>\n",
       "    .dataframe tbody tr th:only-of-type {\n",
       "        vertical-align: middle;\n",
       "    }\n",
       "\n",
       "    .dataframe tbody tr th {\n",
       "        vertical-align: top;\n",
       "    }\n",
       "\n",
       "    .dataframe thead th {\n",
       "        text-align: right;\n",
       "    }\n",
       "</style>\n",
       "<table border=\"1\" class=\"dataframe\">\n",
       "  <thead>\n",
       "    <tr style=\"text-align: right;\">\n",
       "      <th></th>\n",
       "      <th>Is your employer primarily a tech company/organization?</th>\n",
       "      <th>Has your employer ever formally discussed mental health (for example, as part of a wellness campaign or other official communication)?</th>\n",
       "      <th>Does your employer offer resources to learn more about mental health disorders and options for seeking help?</th>\n",
       "      <th>Do you *currently* have a mental health disorder?</th>\n",
       "      <th>Have you had a mental health disorder in the past?</th>\n",
       "      <th>Do you have a family history of mental illness?</th>\n",
       "      <th>What is your age?</th>\n",
       "      <th>What is your gender?</th>\n",
       "    </tr>\n",
       "  </thead>\n",
       "  <tbody>\n",
       "    <tr>\n",
       "      <th>0</th>\n",
       "      <td>True</td>\n",
       "      <td>Yes</td>\n",
       "      <td>Yes</td>\n",
       "      <td>Don't Know</td>\n",
       "      <td>No</td>\n",
       "      <td>No</td>\n",
       "      <td>25</td>\n",
       "      <td>Male</td>\n",
       "    </tr>\n",
       "    <tr>\n",
       "      <th>1</th>\n",
       "      <td>True</td>\n",
       "      <td>No</td>\n",
       "      <td>Yes</td>\n",
       "      <td>Possibly</td>\n",
       "      <td>Possibly</td>\n",
       "      <td>Yes</td>\n",
       "      <td>51</td>\n",
       "      <td>male</td>\n",
       "    </tr>\n",
       "    <tr>\n",
       "      <th>2</th>\n",
       "      <td>True</td>\n",
       "      <td>No</td>\n",
       "      <td>I don't know</td>\n",
       "      <td>No</td>\n",
       "      <td>No</td>\n",
       "      <td>I don't know</td>\n",
       "      <td>27</td>\n",
       "      <td>Male</td>\n",
       "    </tr>\n",
       "    <tr>\n",
       "      <th>3</th>\n",
       "      <td>True</td>\n",
       "      <td>Yes</td>\n",
       "      <td>Yes</td>\n",
       "      <td>No</td>\n",
       "      <td>No</td>\n",
       "      <td>Yes</td>\n",
       "      <td>37</td>\n",
       "      <td>male</td>\n",
       "    </tr>\n",
       "    <tr>\n",
       "      <th>4</th>\n",
       "      <td>True</td>\n",
       "      <td>I don't know</td>\n",
       "      <td>I don't know</td>\n",
       "      <td>No</td>\n",
       "      <td>No</td>\n",
       "      <td>No</td>\n",
       "      <td>46</td>\n",
       "      <td>m</td>\n",
       "    </tr>\n",
       "  </tbody>\n",
       "</table>\n",
       "</div>"
      ],
      "text/plain": [
       "  Is your employer primarily a tech company/organization?  \\\n",
       "0                                               True        \n",
       "1                                               True        \n",
       "2                                               True        \n",
       "3                                               True        \n",
       "4                                               True        \n",
       "\n",
       "  Has your employer ever formally discussed mental health (for example, as part of a wellness campaign or other official communication)?  \\\n",
       "0                                                Yes                                                                                       \n",
       "1                                                 No                                                                                       \n",
       "2                                                 No                                                                                       \n",
       "3                                                Yes                                                                                       \n",
       "4                                       I don't know                                                                                       \n",
       "\n",
       "  Does your employer offer resources to learn more about mental health disorders and options for seeking help?  \\\n",
       "0                                                Yes                                                             \n",
       "1                                                Yes                                                             \n",
       "2                                       I don't know                                                             \n",
       "3                                                Yes                                                             \n",
       "4                                       I don't know                                                             \n",
       "\n",
       "  Do you *currently* have a mental health disorder?  \\\n",
       "0                                        Don't Know   \n",
       "1                                          Possibly   \n",
       "2                                                No   \n",
       "3                                                No   \n",
       "4                                                No   \n",
       "\n",
       "  Have you had a mental health disorder in the past?  \\\n",
       "0                                                 No   \n",
       "1                                           Possibly   \n",
       "2                                                 No   \n",
       "3                                                 No   \n",
       "4                                                 No   \n",
       "\n",
       "  Do you have a family history of mental illness?  What is your age?  \\\n",
       "0                                              No                 25   \n",
       "1                                             Yes                 51   \n",
       "2                                    I don't know                 27   \n",
       "3                                             Yes                 37   \n",
       "4                                              No                 46   \n",
       "\n",
       "  What is your gender?  \n",
       "0                 Male  \n",
       "1                 male  \n",
       "2                 Male  \n",
       "3                 male  \n",
       "4                    m  "
      ]
     },
     "execution_count": 5,
     "metadata": {},
     "output_type": "execute_result"
    }
   ],
   "source": [
    "df.head()"
   ]
  },
  {
   "cell_type": "markdown",
   "id": "f5e1288d",
   "metadata": {},
   "source": [
    "###  \n",
    "### Show the number of rows and columns in the dataset after modification\n",
    "###  "
   ]
  },
  {
   "cell_type": "code",
   "execution_count": 6,
   "id": "5dcd2321",
   "metadata": {},
   "outputs": [
    {
     "data": {
      "text/plain": [
       "(352, 8)"
      ]
     },
     "execution_count": 6,
     "metadata": {},
     "output_type": "execute_result"
    }
   ],
   "source": [
    "df.shape"
   ]
  },
  {
   "cell_type": "markdown",
   "id": "5b8466ad",
   "metadata": {},
   "source": [
    "###  \n",
    "### Display info about the modified data\n",
    "###  "
   ]
  },
  {
   "cell_type": "code",
   "execution_count": 7,
   "id": "a6553f1a",
   "metadata": {
    "scrolled": true
   },
   "outputs": [
    {
     "name": "stdout",
     "output_type": "stream",
     "text": [
      "<class 'pandas.core.frame.DataFrame'>\n",
      "RangeIndex: 352 entries, 0 to 351\n",
      "Data columns (total 8 columns):\n",
      " #   Column                                                                                                                                  Non-Null Count  Dtype \n",
      "---  ------                                                                                                                                  --------------  ----- \n",
      " 0   Is your employer primarily a tech company/organization?                                                                                 304 non-null    object\n",
      " 1   Has your employer ever formally discussed mental health (for example, as part of a wellness campaign or other official communication)?  304 non-null    object\n",
      " 2   Does your employer offer resources to learn more about mental health disorders and options for seeking help?                            304 non-null    object\n",
      " 3   Do you *currently* have a mental health disorder?                                                                                       352 non-null    object\n",
      " 4   Have you had a mental health disorder in the past?                                                                                      349 non-null    object\n",
      " 5   Do you have a family history of mental illness?                                                                                         352 non-null    object\n",
      " 6   What is your age?                                                                                                                       352 non-null    int64 \n",
      " 7   What is your gender?                                                                                                                    347 non-null    object\n",
      "dtypes: int64(1), object(7)\n",
      "memory usage: 22.1+ KB\n"
     ]
    }
   ],
   "source": [
    "df.info()"
   ]
  },
  {
   "cell_type": "markdown",
   "id": "b6725cf1",
   "metadata": {},
   "source": [
    "###  \n",
    "### Calculate the number of NA values in each column of the data\n",
    "###  "
   ]
  },
  {
   "cell_type": "code",
   "execution_count": 8,
   "id": "396e9b85",
   "metadata": {},
   "outputs": [
    {
     "data": {
      "text/plain": [
       "Is your employer primarily a tech company/organization?                                                                                   48\n",
       "Has your employer ever formally discussed mental health (for example, as part of a wellness campaign or other official communication)?    48\n",
       "Does your employer offer resources to learn more about mental health disorders and options for seeking help?                              48\n",
       "Do you *currently* have a mental health disorder?                                                                                          0\n",
       "Have you had a mental health disorder in the past?                                                                                         3\n",
       "Do you have a family history of mental illness?                                                                                            0\n",
       "What is your age?                                                                                                                          0\n",
       "What is your gender?                                                                                                                       5\n",
       "dtype: int64"
      ]
     },
     "execution_count": 8,
     "metadata": {},
     "output_type": "execute_result"
    }
   ],
   "source": [
    "df.isna().sum()"
   ]
  },
  {
   "cell_type": "markdown",
   "id": "53e41743",
   "metadata": {},
   "source": [
    "###  \n",
    "### Now we will eliminate NA values from the data for each column\n",
    "###  "
   ]
  },
  {
   "cell_type": "markdown",
   "id": "fab3dfc9",
   "metadata": {},
   "source": [
    "###  \n",
    "### Finding distinct values for the each column\n",
    "###  "
   ]
  },
  {
   "cell_type": "code",
   "execution_count": 9,
   "id": "7a57f1fe",
   "metadata": {},
   "outputs": [
    {
     "data": {
      "text/plain": [
       "{'Is your employer primarily a tech company/organization?': 3,\n",
       " 'Has your employer ever formally discussed mental health (for example, as part of a wellness campaign or other official communication)?': 4,\n",
       " 'Does your employer offer resources to learn more about mental health disorders and options for seeking help?': 4,\n",
       " 'Do you *currently* have a mental health disorder?': 4,\n",
       " 'Have you had a mental health disorder in the past?': 5,\n",
       " 'Do you have a family history of mental illness?': 3,\n",
       " 'What is your gender?': 43}"
      ]
     },
     "execution_count": 9,
     "metadata": {},
     "output_type": "execute_result"
    }
   ],
   "source": [
    "{column: len(df[column].unique()) for column in df.select_dtypes('object').columns}"
   ]
  },
  {
   "cell_type": "code",
   "execution_count": 10,
   "id": "50f9ea24",
   "metadata": {},
   "outputs": [
    {
     "data": {
      "text/plain": [
       "{'Is your employer primarily a tech company/organization?': [True, nan, False],\n",
       " 'Has your employer ever formally discussed mental health (for example, as part of a wellness campaign or other official communication)?': ['Yes',\n",
       "  'No',\n",
       "  \"I don't know\",\n",
       "  nan],\n",
       " 'Does your employer offer resources to learn more about mental health disorders and options for seeking help?': ['Yes',\n",
       "  \"I don't know\",\n",
       "  'No',\n",
       "  nan],\n",
       " 'Do you *currently* have a mental health disorder?': [\"Don't Know\",\n",
       "  'Possibly',\n",
       "  'No',\n",
       "  'Yes'],\n",
       " 'Have you had a mental health disorder in the past?': ['No',\n",
       "  'Possibly',\n",
       "  'Yes',\n",
       "  \"Don't Know\",\n",
       "  nan],\n",
       " 'Do you have a family history of mental illness?': ['No',\n",
       "  'Yes',\n",
       "  \"I don't know\"],\n",
       " 'What is your gender?': ['Male',\n",
       "  'male',\n",
       "  'm',\n",
       "  'female',\n",
       "  'Female',\n",
       "  nan,\n",
       "  'M',\n",
       "  'F',\n",
       "  'f',\n",
       "  'Let\\'s keep it simple and say \"male\"',\n",
       "  'Non-binary',\n",
       "  'Identify as male',\n",
       "  'Male ',\n",
       "  'Woman',\n",
       "  'Non binary',\n",
       "  'Masculine',\n",
       "  'Cishet male',\n",
       "  'None',\n",
       "  'Female-identified',\n",
       "  'woman',\n",
       "  'Nonbinary',\n",
       "  'agender',\n",
       "  'Man',\n",
       "  'Questioning',\n",
       "  'cis male',\n",
       "  'Cis Male',\n",
       "  'I have a penis',\n",
       "  'rr',\n",
       "  'cis woman',\n",
       "  'Agender trans woman',\n",
       "  'Female ',\n",
       "  'femmina',\n",
       "  '43',\n",
       "  'Trans man',\n",
       "  'man',\n",
       "  'masculino',\n",
       "  'I am a Wookie',\n",
       "  'Make',\n",
       "  'Trans non-binary/genderfluid',\n",
       "  'CIS Male',\n",
       "  'Non-binary and gender fluid',\n",
       "  'Femile',\n",
       "  'Female (cis)']}"
      ]
     },
     "execution_count": 10,
     "metadata": {},
     "output_type": "execute_result"
    }
   ],
   "source": [
    "{column: list(df[column].unique()) for column in df.select_dtypes('object').columns}"
   ]
  },
  {
   "cell_type": "markdown",
   "id": "154a6c20",
   "metadata": {},
   "source": [
    "###  \n",
    "### Finding the most recurrent value for the considered column\n",
    "###  "
   ]
  },
  {
   "cell_type": "code",
   "execution_count": 11,
   "id": "a9337613",
   "metadata": {},
   "outputs": [
    {
     "data": {
      "text/plain": [
       "0    True\n",
       "Name: Is your employer primarily a tech company/organization?, dtype: object"
      ]
     },
     "execution_count": 11,
     "metadata": {},
     "output_type": "execute_result"
    }
   ],
   "source": [
    "df['Is your employer primarily a tech company/organization?'].mode()"
   ]
  },
  {
   "cell_type": "markdown",
   "id": "54607b17",
   "metadata": {},
   "source": [
    "###  \n",
    "### Replacing NA values with 'True' as it's most recurrent \n",
    "###  "
   ]
  },
  {
   "cell_type": "code",
   "execution_count": 12,
   "id": "848825e2",
   "metadata": {},
   "outputs": [],
   "source": [
    "df['Is your employer primarily a tech company/organization?'] = df['Is your employer primarily a tech company/organization?'].fillna(True)"
   ]
  },
  {
   "cell_type": "markdown",
   "id": "3331588d",
   "metadata": {},
   "source": [
    "###  \n",
    "### Checking if the NA values have been replaced\n",
    "###  "
   ]
  },
  {
   "cell_type": "code",
   "execution_count": 13,
   "id": "9e833516",
   "metadata": {},
   "outputs": [
    {
     "data": {
      "text/plain": [
       "Is your employer primarily a tech company/organization?                                                                                    0\n",
       "Has your employer ever formally discussed mental health (for example, as part of a wellness campaign or other official communication)?    48\n",
       "Does your employer offer resources to learn more about mental health disorders and options for seeking help?                              48\n",
       "Do you *currently* have a mental health disorder?                                                                                          0\n",
       "Have you had a mental health disorder in the past?                                                                                         3\n",
       "Do you have a family history of mental illness?                                                                                            0\n",
       "What is your age?                                                                                                                          0\n",
       "What is your gender?                                                                                                                       5\n",
       "dtype: int64"
      ]
     },
     "execution_count": 13,
     "metadata": {},
     "output_type": "execute_result"
    }
   ],
   "source": [
    "df.isna().sum()"
   ]
  },
  {
   "cell_type": "markdown",
   "id": "9147a09b",
   "metadata": {},
   "source": [
    "###  \n",
    "### Now moving on to the next column\n",
    "###  "
   ]
  },
  {
   "cell_type": "markdown",
   "id": "34fd3a95",
   "metadata": {},
   "source": [
    "###  \n",
    "### Replacing NA values with 'I don't know'\n",
    "###  "
   ]
  },
  {
   "cell_type": "code",
   "execution_count": 14,
   "id": "95d62325",
   "metadata": {},
   "outputs": [],
   "source": [
    "df['Has your employer ever formally discussed mental health (for example, as part of a wellness campaign or other official communication)?'] = df['Has your employer ever formally discussed mental health (for example, as part of a wellness campaign or other official communication)?'].fillna(\"I don't know\")"
   ]
  },
  {
   "cell_type": "markdown",
   "id": "5ce9f5df",
   "metadata": {},
   "source": [
    "###  \n",
    "### Checking if the NA values have been replaced\n",
    "###  "
   ]
  },
  {
   "cell_type": "code",
   "execution_count": 15,
   "id": "4ae12063",
   "metadata": {},
   "outputs": [
    {
     "data": {
      "text/plain": [
       "Is your employer primarily a tech company/organization?                                                                                    0\n",
       "Has your employer ever formally discussed mental health (for example, as part of a wellness campaign or other official communication)?     0\n",
       "Does your employer offer resources to learn more about mental health disorders and options for seeking help?                              48\n",
       "Do you *currently* have a mental health disorder?                                                                                          0\n",
       "Have you had a mental health disorder in the past?                                                                                         3\n",
       "Do you have a family history of mental illness?                                                                                            0\n",
       "What is your age?                                                                                                                          0\n",
       "What is your gender?                                                                                                                       5\n",
       "dtype: int64"
      ]
     },
     "execution_count": 15,
     "metadata": {},
     "output_type": "execute_result"
    }
   ],
   "source": [
    "df.isna().sum()"
   ]
  },
  {
   "cell_type": "markdown",
   "id": "aa6cdc00",
   "metadata": {},
   "source": [
    "###  \n",
    "### Now we will Eliminate NA values for gender column\n",
    "###  "
   ]
  },
  {
   "cell_type": "markdown",
   "id": "ddf24ca8",
   "metadata": {},
   "source": [
    "###  \n",
    "### Checking the most recurrent value for the column\n",
    "###  "
   ]
  },
  {
   "cell_type": "code",
   "execution_count": 16,
   "id": "e347fa8f",
   "metadata": {},
   "outputs": [
    {
     "data": {
      "text/plain": [
       "0    Male\n",
       "Name: What is your gender?, dtype: object"
      ]
     },
     "execution_count": 16,
     "metadata": {},
     "output_type": "execute_result"
    }
   ],
   "source": [
    "df['What is your gender?'].mode()"
   ]
  },
  {
   "cell_type": "markdown",
   "id": "f668eb0b",
   "metadata": {},
   "source": [
    "###  \n",
    "### Replacing NA values with 'Male'\n",
    "###  "
   ]
  },
  {
   "cell_type": "code",
   "execution_count": 17,
   "id": "a34a0775",
   "metadata": {},
   "outputs": [],
   "source": [
    "df['What is your gender?'] = df['What is your gender?'].fillna('Male')"
   ]
  },
  {
   "cell_type": "markdown",
   "id": "f6bfa3f5",
   "metadata": {},
   "source": [
    "###  \n",
    "### Checking if the NA values have been replaced\n",
    "###  "
   ]
  },
  {
   "cell_type": "code",
   "execution_count": 18,
   "id": "209b09bb",
   "metadata": {},
   "outputs": [
    {
     "data": {
      "text/plain": [
       "Is your employer primarily a tech company/organization?                                                                                    0\n",
       "Has your employer ever formally discussed mental health (for example, as part of a wellness campaign or other official communication)?     0\n",
       "Does your employer offer resources to learn more about mental health disorders and options for seeking help?                              48\n",
       "Do you *currently* have a mental health disorder?                                                                                          0\n",
       "Have you had a mental health disorder in the past?                                                                                         3\n",
       "Do you have a family history of mental illness?                                                                                            0\n",
       "What is your age?                                                                                                                          0\n",
       "What is your gender?                                                                                                                       0\n",
       "dtype: int64"
      ]
     },
     "execution_count": 18,
     "metadata": {},
     "output_type": "execute_result"
    }
   ],
   "source": [
    "df.isna().sum()"
   ]
  },
  {
   "cell_type": "markdown",
   "id": "704e0dcc",
   "metadata": {},
   "source": [
    "###  \n",
    "### Now we will Eliminate NA values from the column 'Have you had a mental health disorder in the past?'\n",
    "###  "
   ]
  },
  {
   "cell_type": "markdown",
   "id": "d0bc33ee",
   "metadata": {},
   "source": [
    "###  \n",
    "### Finding the most recurrent value for the the column\n",
    "###  "
   ]
  },
  {
   "cell_type": "code",
   "execution_count": 19,
   "id": "3471d5d9",
   "metadata": {},
   "outputs": [
    {
     "data": {
      "text/plain": [
       "0    Yes\n",
       "Name: Have you had a mental health disorder in the past?, dtype: object"
      ]
     },
     "execution_count": 19,
     "metadata": {},
     "output_type": "execute_result"
    }
   ],
   "source": [
    "df['Have you had a mental health disorder in the past?'].mode()"
   ]
  },
  {
   "cell_type": "markdown",
   "id": "063f0938",
   "metadata": {},
   "source": [
    "###  \n",
    "### Replacing NA values with 'Yes' \n",
    "###  "
   ]
  },
  {
   "cell_type": "code",
   "execution_count": 20,
   "id": "d5d6ad0d",
   "metadata": {},
   "outputs": [],
   "source": [
    "df['Have you had a mental health disorder in the past?'] = df['Have you had a mental health disorder in the past?'].fillna('Yes')"
   ]
  },
  {
   "cell_type": "markdown",
   "id": "b9ab2e79",
   "metadata": {},
   "source": [
    "###  \n",
    "### Checking if the NA values have been replaced\n",
    "###  "
   ]
  },
  {
   "cell_type": "code",
   "execution_count": 21,
   "id": "bf8ee83c",
   "metadata": {},
   "outputs": [
    {
     "data": {
      "text/plain": [
       "Is your employer primarily a tech company/organization?                                                                                    0\n",
       "Has your employer ever formally discussed mental health (for example, as part of a wellness campaign or other official communication)?     0\n",
       "Does your employer offer resources to learn more about mental health disorders and options for seeking help?                              48\n",
       "Do you *currently* have a mental health disorder?                                                                                          0\n",
       "Have you had a mental health disorder in the past?                                                                                         0\n",
       "Do you have a family history of mental illness?                                                                                            0\n",
       "What is your age?                                                                                                                          0\n",
       "What is your gender?                                                                                                                       0\n",
       "dtype: int64"
      ]
     },
     "execution_count": 21,
     "metadata": {},
     "output_type": "execute_result"
    }
   ],
   "source": [
    "df.isna().sum()"
   ]
  },
  {
   "cell_type": "markdown",
   "id": "1decda5e",
   "metadata": {},
   "source": [
    "###  \n",
    "### Now we will eliminate NA values for the column 'Does your employer offer resources to learn more about mental health disorders and options for seeking help?'\n",
    "###  "
   ]
  },
  {
   "cell_type": "markdown",
   "id": "855605e9",
   "metadata": {},
   "source": [
    "###  \n",
    "### Replacing NA values in the column with 'I don't know'\n",
    "###  "
   ]
  },
  {
   "cell_type": "code",
   "execution_count": 22,
   "id": "6f88e073",
   "metadata": {},
   "outputs": [],
   "source": [
    "df['Does your employer offer resources to learn more about mental health disorders and options for seeking help?'] = df['Does your employer offer resources to learn more about mental health disorders and options for seeking help?'].fillna(\"I don't know\")"
   ]
  },
  {
   "cell_type": "markdown",
   "id": "67b3dfe5",
   "metadata": {},
   "source": [
    "###  \n",
    "### Checking if the NA values have been replaced\n",
    "###  "
   ]
  },
  {
   "cell_type": "code",
   "execution_count": 23,
   "id": "ffe2ed8e",
   "metadata": {},
   "outputs": [
    {
     "data": {
      "text/plain": [
       "Is your employer primarily a tech company/organization?                                                                                   0\n",
       "Has your employer ever formally discussed mental health (for example, as part of a wellness campaign or other official communication)?    0\n",
       "Does your employer offer resources to learn more about mental health disorders and options for seeking help?                              0\n",
       "Do you *currently* have a mental health disorder?                                                                                         0\n",
       "Have you had a mental health disorder in the past?                                                                                        0\n",
       "Do you have a family history of mental illness?                                                                                           0\n",
       "What is your age?                                                                                                                         0\n",
       "What is your gender?                                                                                                                      0\n",
       "dtype: int64"
      ]
     },
     "execution_count": 23,
     "metadata": {},
     "output_type": "execute_result"
    }
   ],
   "source": [
    "df.isna().sum()"
   ]
  },
  {
   "cell_type": "markdown",
   "id": "245eebfd",
   "metadata": {},
   "source": [
    "###  \n",
    "### All NA values have been eliminated now\n",
    "###  "
   ]
  },
  {
   "cell_type": "markdown",
   "id": "61de14ce",
   "metadata": {},
   "source": [
    "###  \n",
    "### Now we will reduce the number of possible values for the column 'What is your gender?'\n",
    "### We will allow only 3 inputs namely 'Male', 'Female' and 'Other'\n",
    "###  "
   ]
  },
  {
   "cell_type": "markdown",
   "id": "600ab93d",
   "metadata": {},
   "source": [
    "###  \n",
    "### Replacing 'Male' with 1, 'Female' with 0, 'Other' with 2\n",
    "###  "
   ]
  },
  {
   "cell_type": "code",
   "execution_count": 24,
   "id": "0ded5e78",
   "metadata": {},
   "outputs": [],
   "source": [
    "def encode_gender(x):\n",
    "    if x.lower()[0] == 'f':\n",
    "        return 0\n",
    "    elif x.lower()[0] == 'm':\n",
    "        return 1\n",
    "    else:\n",
    "        return 2"
   ]
  },
  {
   "cell_type": "code",
   "execution_count": 25,
   "id": "1aa413d7",
   "metadata": {},
   "outputs": [],
   "source": [
    "df['What is your gender?'] = df['What is your gender?'].apply(encode_gender)"
   ]
  },
  {
   "cell_type": "markdown",
   "id": "92d17950",
   "metadata": {},
   "source": [
    "###  \n",
    "### Checking disttinct values for object type attributes\n",
    "###  "
   ]
  },
  {
   "cell_type": "code",
   "execution_count": 26,
   "id": "9b1bce46",
   "metadata": {},
   "outputs": [
    {
     "data": {
      "text/plain": [
       "{'Has your employer ever formally discussed mental health (for example, as part of a wellness campaign or other official communication)?': ['Yes',\n",
       "  'No',\n",
       "  \"I don't know\"],\n",
       " 'Does your employer offer resources to learn more about mental health disorders and options for seeking help?': ['Yes',\n",
       "  \"I don't know\",\n",
       "  'No'],\n",
       " 'Do you *currently* have a mental health disorder?': [\"Don't Know\",\n",
       "  'Possibly',\n",
       "  'No',\n",
       "  'Yes'],\n",
       " 'Have you had a mental health disorder in the past?': ['No',\n",
       "  'Possibly',\n",
       "  'Yes',\n",
       "  \"Don't Know\"],\n",
       " 'Do you have a family history of mental illness?': ['No',\n",
       "  'Yes',\n",
       "  \"I don't know\"]}"
      ]
     },
     "execution_count": 26,
     "metadata": {},
     "output_type": "execute_result"
    }
   ],
   "source": [
    "{column: list(df[column].unique()) for column in df.select_dtypes('object').columns}"
   ]
  },
  {
   "cell_type": "markdown",
   "id": "a93cff07",
   "metadata": {},
   "source": [
    "###  \n",
    "### Checking the status of the dataset\n",
    "###  "
   ]
  },
  {
   "cell_type": "code",
   "execution_count": 27,
   "id": "f02dcfc6",
   "metadata": {},
   "outputs": [
    {
     "name": "stdout",
     "output_type": "stream",
     "text": [
      "<class 'pandas.core.frame.DataFrame'>\n",
      "RangeIndex: 352 entries, 0 to 351\n",
      "Data columns (total 8 columns):\n",
      " #   Column                                                                                                                                  Non-Null Count  Dtype \n",
      "---  ------                                                                                                                                  --------------  ----- \n",
      " 0   Is your employer primarily a tech company/organization?                                                                                 352 non-null    bool  \n",
      " 1   Has your employer ever formally discussed mental health (for example, as part of a wellness campaign or other official communication)?  352 non-null    object\n",
      " 2   Does your employer offer resources to learn more about mental health disorders and options for seeking help?                            352 non-null    object\n",
      " 3   Do you *currently* have a mental health disorder?                                                                                       352 non-null    object\n",
      " 4   Have you had a mental health disorder in the past?                                                                                      352 non-null    object\n",
      " 5   Do you have a family history of mental illness?                                                                                         352 non-null    object\n",
      " 6   What is your age?                                                                                                                       352 non-null    int64 \n",
      " 7   What is your gender?                                                                                                                    352 non-null    int64 \n",
      "dtypes: bool(1), int64(2), object(5)\n",
      "memory usage: 19.7+ KB\n"
     ]
    }
   ],
   "source": [
    "df.info()"
   ]
  },
  {
   "cell_type": "markdown",
   "id": "d242d543",
   "metadata": {},
   "source": [
    "###  \n",
    "### Reducing the object values to integer values for the column 'Do you *currently* have a mental health disorder?'\n",
    "###  "
   ]
  },
  {
   "cell_type": "code",
   "execution_count": 28,
   "id": "0c424c15",
   "metadata": {},
   "outputs": [],
   "source": [
    "def encode_target(x):\n",
    "    if x == 'No':\n",
    "        return 0\n",
    "    elif x == 'Yes':\n",
    "        return 1\n",
    "    elif x ==\"Don't Know\":\n",
    "        return 0\n",
    "    elif x =='Possibly':\n",
    "        return 1"
   ]
  },
  {
   "cell_type": "code",
   "execution_count": 29,
   "id": "a8ca441c",
   "metadata": {},
   "outputs": [],
   "source": [
    "df['Do you *currently* have a mental health disorder?'] = df['Do you *currently* have a mental health disorder?'].apply(encode_target)"
   ]
  },
  {
   "cell_type": "markdown",
   "id": "d62fcab9",
   "metadata": {},
   "source": [
    "###  \n",
    "### Checking the status of the dataset\n",
    "###  "
   ]
  },
  {
   "cell_type": "code",
   "execution_count": 30,
   "id": "6da8e819",
   "metadata": {},
   "outputs": [
    {
     "name": "stdout",
     "output_type": "stream",
     "text": [
      "<class 'pandas.core.frame.DataFrame'>\n",
      "RangeIndex: 352 entries, 0 to 351\n",
      "Data columns (total 8 columns):\n",
      " #   Column                                                                                                                                  Non-Null Count  Dtype \n",
      "---  ------                                                                                                                                  --------------  ----- \n",
      " 0   Is your employer primarily a tech company/organization?                                                                                 352 non-null    bool  \n",
      " 1   Has your employer ever formally discussed mental health (for example, as part of a wellness campaign or other official communication)?  352 non-null    object\n",
      " 2   Does your employer offer resources to learn more about mental health disorders and options for seeking help?                            352 non-null    object\n",
      " 3   Do you *currently* have a mental health disorder?                                                                                       352 non-null    int64 \n",
      " 4   Have you had a mental health disorder in the past?                                                                                      352 non-null    object\n",
      " 5   Do you have a family history of mental illness?                                                                                         352 non-null    object\n",
      " 6   What is your age?                                                                                                                       352 non-null    int64 \n",
      " 7   What is your gender?                                                                                                                    352 non-null    int64 \n",
      "dtypes: bool(1), int64(3), object(4)\n",
      "memory usage: 19.7+ KB\n"
     ]
    }
   ],
   "source": [
    "df.info()"
   ]
  },
  {
   "cell_type": "markdown",
   "id": "3f3fc83f",
   "metadata": {},
   "source": [
    "###  \n",
    "### Reducing Bool values to integer values for the column  'Is your employer primarily a tech company/organization?'\n",
    "###  "
   ]
  },
  {
   "cell_type": "code",
   "execution_count": 31,
   "id": "f4760372",
   "metadata": {},
   "outputs": [],
   "source": [
    "def encode_tech_comp(x):\n",
    "    if x == True:\n",
    "        return 1\n",
    "    else: \n",
    "        return 0"
   ]
  },
  {
   "cell_type": "code",
   "execution_count": 32,
   "id": "0c0f48d2",
   "metadata": {},
   "outputs": [],
   "source": [
    "df['Is your employer primarily a tech company/organization?'] = df['Is your employer primarily a tech company/organization?'].apply(encode_tech_comp)"
   ]
  },
  {
   "cell_type": "markdown",
   "id": "b4102a7c",
   "metadata": {},
   "source": [
    "###  \n",
    "### Rechecking the status of the data\n",
    "###  "
   ]
  },
  {
   "cell_type": "code",
   "execution_count": 33,
   "id": "f8dc4ee2",
   "metadata": {},
   "outputs": [
    {
     "name": "stdout",
     "output_type": "stream",
     "text": [
      "<class 'pandas.core.frame.DataFrame'>\n",
      "RangeIndex: 352 entries, 0 to 351\n",
      "Data columns (total 8 columns):\n",
      " #   Column                                                                                                                                  Non-Null Count  Dtype \n",
      "---  ------                                                                                                                                  --------------  ----- \n",
      " 0   Is your employer primarily a tech company/organization?                                                                                 352 non-null    int64 \n",
      " 1   Has your employer ever formally discussed mental health (for example, as part of a wellness campaign or other official communication)?  352 non-null    object\n",
      " 2   Does your employer offer resources to learn more about mental health disorders and options for seeking help?                            352 non-null    object\n",
      " 3   Do you *currently* have a mental health disorder?                                                                                       352 non-null    int64 \n",
      " 4   Have you had a mental health disorder in the past?                                                                                      352 non-null    object\n",
      " 5   Do you have a family history of mental illness?                                                                                         352 non-null    object\n",
      " 6   What is your age?                                                                                                                       352 non-null    int64 \n",
      " 7   What is your gender?                                                                                                                    352 non-null    int64 \n",
      "dtypes: int64(4), object(4)\n",
      "memory usage: 22.1+ KB\n"
     ]
    }
   ],
   "source": [
    "df.info()"
   ]
  },
  {
   "cell_type": "markdown",
   "id": "4a36dfb8",
   "metadata": {},
   "source": [
    "###  \n",
    "### Reducing object values to integer values for the rest of the columns\n",
    "###  "
   ]
  },
  {
   "cell_type": "code",
   "execution_count": 34,
   "id": "6378fca6",
   "metadata": {},
   "outputs": [],
   "source": [
    "ordinal_features = [\n",
    "    'Has your employer ever formally discussed mental health (for example, as part of a wellness campaign or other official communication)?',\n",
    "    'Does your employer offer resources to learn more about mental health disorders and options for seeking help?',\n",
    "    'Have you had a mental health disorder in the past?',\n",
    "    'Do you have a family history of mental illness?'\n",
    "]\n",
    "\n",
    "ordinal_orderings = [\n",
    "    ['Yes','No',\"I don't know\"],\n",
    "    ['Yes',\"I don't know\",'No'],\n",
    "    ['No','Possibly','Yes',\"Don't Know\"],\n",
    "    ['No','Yes',\"I don't know\"]\n",
    "]"
   ]
  },
  {
   "cell_type": "code",
   "execution_count": 35,
   "id": "f3adbab7",
   "metadata": {},
   "outputs": [],
   "source": [
    "def ordinal_encode(data, columns, orderings):\n",
    "    data = data.copy()\n",
    "    for column, ordering in zip(columns, orderings):\n",
    "        data[column] = data[column].apply(lambda x: ordering.index(x))\n",
    "    return data"
   ]
  },
  {
   "cell_type": "code",
   "execution_count": 36,
   "id": "5d99d6e9",
   "metadata": {},
   "outputs": [],
   "source": [
    "df = ordinal_encode(\n",
    "    df,\n",
    "    columns=ordinal_features,\n",
    "    orderings=ordinal_orderings\n",
    ")"
   ]
  },
  {
   "cell_type": "markdown",
   "id": "5b845c54",
   "metadata": {},
   "source": [
    "###  \n",
    "### Rechecking the status of the data\n",
    "###  "
   ]
  },
  {
   "cell_type": "code",
   "execution_count": 37,
   "id": "8ac2b907",
   "metadata": {},
   "outputs": [
    {
     "name": "stdout",
     "output_type": "stream",
     "text": [
      "<class 'pandas.core.frame.DataFrame'>\n",
      "RangeIndex: 352 entries, 0 to 351\n",
      "Data columns (total 8 columns):\n",
      " #   Column                                                                                                                                  Non-Null Count  Dtype\n",
      "---  ------                                                                                                                                  --------------  -----\n",
      " 0   Is your employer primarily a tech company/organization?                                                                                 352 non-null    int64\n",
      " 1   Has your employer ever formally discussed mental health (for example, as part of a wellness campaign or other official communication)?  352 non-null    int64\n",
      " 2   Does your employer offer resources to learn more about mental health disorders and options for seeking help?                            352 non-null    int64\n",
      " 3   Do you *currently* have a mental health disorder?                                                                                       352 non-null    int64\n",
      " 4   Have you had a mental health disorder in the past?                                                                                      352 non-null    int64\n",
      " 5   Do you have a family history of mental illness?                                                                                         352 non-null    int64\n",
      " 6   What is your age?                                                                                                                       352 non-null    int64\n",
      " 7   What is your gender?                                                                                                                    352 non-null    int64\n",
      "dtypes: int64(8)\n",
      "memory usage: 22.1 KB\n"
     ]
    }
   ],
   "source": [
    "df.info()"
   ]
  },
  {
   "cell_type": "markdown",
   "id": "b85ca488",
   "metadata": {},
   "source": [
    "###  \n",
    "### Now all columns have integer type values with no null values\n",
    "###  "
   ]
  },
  {
   "cell_type": "markdown",
   "id": "e75b2dcf",
   "metadata": {},
   "source": [
    "###  \n",
    "## Model Building\n",
    "###  "
   ]
  },
  {
   "cell_type": "code",
   "execution_count": 38,
   "id": "f886b995",
   "metadata": {},
   "outputs": [],
   "source": [
    "x = df.drop(['Do you *currently* have a mental health disorder?'], axis = 1)\n",
    "y = df['Do you *currently* have a mental health disorder?'].astype(int)"
   ]
  },
  {
   "cell_type": "markdown",
   "id": "96de01cf",
   "metadata": {},
   "source": [
    "###  \n",
    "### Splitting the dataset into train:70% and test:30%\n",
    "###  "
   ]
  },
  {
   "cell_type": "code",
   "execution_count": 39,
   "id": "e325a3d5",
   "metadata": {},
   "outputs": [],
   "source": [
    "from sklearn.model_selection import train_test_split\n",
    "x_train, x_test, y_train, y_test = train_test_split(x, y, random_state = 0 , test_size = 0.3)"
   ]
  },
  {
   "cell_type": "code",
   "execution_count": 40,
   "id": "31c93a7f",
   "metadata": {},
   "outputs": [],
   "source": [
    "from sklearn.metrics import classification_report, confusion_matrix, accuracy_score"
   ]
  },
  {
   "cell_type": "markdown",
   "id": "a1b806a6",
   "metadata": {},
   "source": [
    "###  \n",
    "### List to hold the values to be printed\n",
    "###  "
   ]
  },
  {
   "cell_type": "code",
   "execution_count": 41,
   "id": "c8f1f730",
   "metadata": {},
   "outputs": [],
   "source": [
    "accuracy_comp = []"
   ]
  },
  {
   "cell_type": "code",
   "execution_count": 42,
   "id": "4cb46293",
   "metadata": {},
   "outputs": [],
   "source": [
    "precision_comp = []"
   ]
  },
  {
   "cell_type": "code",
   "execution_count": 43,
   "id": "e2d3c08d",
   "metadata": {},
   "outputs": [],
   "source": [
    "recall_comp = []"
   ]
  },
  {
   "cell_type": "code",
   "execution_count": 44,
   "id": "19d51290",
   "metadata": {},
   "outputs": [],
   "source": [
    "f1score_comp = []"
   ]
  },
  {
   "cell_type": "markdown",
   "id": "8d4df338",
   "metadata": {},
   "source": [
    "###  \n",
    "## Logistic Regression\n",
    "###  "
   ]
  },
  {
   "cell_type": "code",
   "execution_count": 45,
   "id": "4462de38",
   "metadata": {},
   "outputs": [
    {
     "name": "stdout",
     "output_type": "stream",
     "text": [
      "Confusion Matrix:\n",
      " [[26 13]\n",
      " [ 6 61]]\n",
      "\n",
      "Classification Report:\n",
      "\n",
      "               precision    recall  f1-score   support\n",
      "\n",
      "           0       0.81      0.67      0.73        39\n",
      "           1       0.82      0.91      0.87        67\n",
      "\n",
      "    accuracy                           0.82       106\n",
      "   macro avg       0.82      0.79      0.80       106\n",
      "weighted avg       0.82      0.82      0.82       106\n",
      "\n",
      "\n",
      "Accuracy= 82.08%\n"
     ]
    }
   ],
   "source": [
    "from sklearn.linear_model import LogisticRegression\n",
    "lr = LogisticRegression()\n",
    "lr.fit(x_train,y_train)\n",
    "predictions = lr.predict(x_test)\n",
    "\n",
    "print('Confusion Matrix:\\n',confusion_matrix(y_test, predictions))\n",
    "print('\\nClassification Report:\\n\\n',classification_report(y_test, predictions))\n",
    "acc = accuracy_score(y_test, predictions)\n",
    "prec = precision_score(y_test, predictions)\n",
    "rec = recall_score(y_test, predictions)\n",
    "f1 = f1_score(y_test, predictions)\n",
    "acc_perc = np.round(acc*100, 2)\n",
    "print('\\nAccuracy=',str(acc_perc)+'%')\n",
    "\n",
    "accuracy_comp.append(acc_perc)\n",
    "precision_comp.append(prec)\n",
    "recall_comp.append(rec)\n",
    "f1score_comp.append(f1)"
   ]
  },
  {
   "cell_type": "markdown",
   "id": "75ec1757",
   "metadata": {},
   "source": [
    "###  \n",
    "## Decision Tree Classifier\n",
    "###  "
   ]
  },
  {
   "cell_type": "code",
   "execution_count": 46,
   "id": "daf1b483",
   "metadata": {},
   "outputs": [
    {
     "name": "stdout",
     "output_type": "stream",
     "text": [
      "Confusion Matrix:\n",
      " [[26 13]\n",
      " [13 54]]\n",
      "\n",
      "Classification Report:\n",
      "\n",
      "               precision    recall  f1-score   support\n",
      "\n",
      "           0       0.67      0.67      0.67        39\n",
      "           1       0.81      0.81      0.81        67\n",
      "\n",
      "    accuracy                           0.75       106\n",
      "   macro avg       0.74      0.74      0.74       106\n",
      "weighted avg       0.75      0.75      0.75       106\n",
      "\n",
      "\n",
      "Accuracy= 75.47%\n"
     ]
    }
   ],
   "source": [
    "from sklearn.tree import DecisionTreeClassifier\n",
    "dt = DecisionTreeClassifier()\n",
    "dt.fit(x_train,y_train)\n",
    "predictions = dt.predict(x_test)\n",
    "\n",
    "print('Confusion Matrix:\\n',confusion_matrix(y_test, predictions))\n",
    "print('\\nClassification Report:\\n\\n',classification_report(y_test, predictions))\n",
    "acc = accuracy_score(y_test, predictions)\n",
    "prec = precision_score(y_test, predictions)\n",
    "rec = recall_score(y_test, predictions)\n",
    "f1 = f1_score(y_test, predictions)\n",
    "acc_perc = np.round(acc*100, 2)\n",
    "print('\\nAccuracy=',str(acc_perc)+'%')\n",
    "\n",
    "accuracy_comp.append(acc_perc)\n",
    "precision_comp.append(prec)\n",
    "recall_comp.append(rec)\n",
    "f1score_comp.append(f1)"
   ]
  },
  {
   "cell_type": "markdown",
   "id": "21757527",
   "metadata": {},
   "source": [
    "###  \n",
    "## Random Forest Classifier\n",
    "###  "
   ]
  },
  {
   "cell_type": "code",
   "execution_count": 47,
   "id": "ee8568e0",
   "metadata": {},
   "outputs": [
    {
     "name": "stdout",
     "output_type": "stream",
     "text": [
      "Confusion Matrix:\n",
      " [[24 15]\n",
      " [ 8 59]]\n",
      "\n",
      "Classification Report:\n",
      "\n",
      "               precision    recall  f1-score   support\n",
      "\n",
      "           0       0.75      0.62      0.68        39\n",
      "           1       0.80      0.88      0.84        67\n",
      "\n",
      "    accuracy                           0.78       106\n",
      "   macro avg       0.77      0.75      0.76       106\n",
      "weighted avg       0.78      0.78      0.78       106\n",
      "\n",
      "\n",
      "Accuracy= 78.3%\n"
     ]
    }
   ],
   "source": [
    "from sklearn.ensemble import RandomForestClassifier\n",
    "rf = RandomForestClassifier()\n",
    "rf.fit(x_train,y_train)\n",
    "predictions = rf.predict(x_test)\n",
    "\n",
    "print('Confusion Matrix:\\n',confusion_matrix(y_test, predictions))\n",
    "print('\\nClassification Report:\\n\\n',classification_report(y_test, predictions))\n",
    "acc = accuracy_score(y_test, predictions)\n",
    "prec = precision_score(y_test, predictions)\n",
    "rec = recall_score(y_test, predictions)\n",
    "f1 = f1_score(y_test, predictions)\n",
    "acc_perc = np.round(acc*100, 2)\n",
    "print('\\nAccuracy=',str(acc_perc)+'%')\n",
    "\n",
    "accuracy_comp.append(acc_perc)\n",
    "precision_comp.append(prec)\n",
    "recall_comp.append(rec)\n",
    "f1score_comp.append(f1)"
   ]
  },
  {
   "cell_type": "markdown",
   "id": "be4d08bd",
   "metadata": {},
   "source": [
    "###  \n",
    "## XGBoost\n",
    "###  "
   ]
  },
  {
   "cell_type": "code",
   "execution_count": 48,
   "id": "941d0991",
   "metadata": {},
   "outputs": [
    {
     "name": "stdout",
     "output_type": "stream",
     "text": [
      "Confusion Matrix:\n",
      " [[24 15]\n",
      " [ 8 59]]\n",
      "\n",
      "Classification Report:\n",
      "\n",
      "               precision    recall  f1-score   support\n",
      "\n",
      "           0       0.75      0.62      0.68        39\n",
      "           1       0.80      0.88      0.84        67\n",
      "\n",
      "    accuracy                           0.78       106\n",
      "   macro avg       0.77      0.75      0.76       106\n",
      "weighted avg       0.78      0.78      0.78       106\n",
      "\n",
      "\n",
      "Accuracy= 78.3%\n"
     ]
    }
   ],
   "source": [
    "import xgboost as xgb\n",
    "xgb = xgb.XGBClassifier()\n",
    "xgb.fit(x_train, y_train)\n",
    "pred = xgb.predict(x_test)\n",
    "acc = accuracy_score(y_test, predictions)\n",
    "\n",
    "print('Confusion Matrix:\\n',confusion_matrix(y_test, predictions))\n",
    "print('\\nClassification Report:\\n\\n',classification_report(y_test, predictions))\n",
    "acc = accuracy_score(y_test, predictions)\n",
    "prec = precision_score(y_test, predictions)\n",
    "rec = recall_score(y_test, predictions)\n",
    "f1 = f1_score(y_test, predictions)\n",
    "acc_perc = np.round(acc*100, 2)\n",
    "print('\\nAccuracy=',str(acc_perc)+'%')\n",
    "\n",
    "accuracy_comp.append(acc_perc)\n",
    "precision_comp.append(prec)\n",
    "recall_comp.append(rec)\n",
    "f1score_comp.append(f1)"
   ]
  },
  {
   "cell_type": "markdown",
   "id": "9941d3ce",
   "metadata": {},
   "source": [
    "###  \n",
    "## KNN\n",
    "###  "
   ]
  },
  {
   "cell_type": "code",
   "execution_count": 49,
   "id": "4ebb4c38",
   "metadata": {},
   "outputs": [
    {
     "name": "stdout",
     "output_type": "stream",
     "text": [
      "Confusion Matrix:\n",
      " [[20 19]\n",
      " [ 7 60]]\n",
      "\n",
      "Classification Report:\n",
      "\n",
      "               precision    recall  f1-score   support\n",
      "\n",
      "           0       0.74      0.51      0.61        39\n",
      "           1       0.76      0.90      0.82        67\n",
      "\n",
      "    accuracy                           0.75       106\n",
      "   macro avg       0.75      0.70      0.71       106\n",
      "weighted avg       0.75      0.75      0.74       106\n",
      "\n",
      "\n",
      "Accuracy= 75.47%\n"
     ]
    }
   ],
   "source": [
    "from sklearn.neighbors import KNeighborsClassifier\n",
    "knn = KNeighborsClassifier(n_neighbors=1)\n",
    "knn.fit(x_train,y_train)\n",
    "predictions = knn.predict(x_test)\n",
    "\n",
    "print('Confusion Matrix:\\n',confusion_matrix(y_test, predictions))\n",
    "print('\\nClassification Report:\\n\\n',classification_report(y_test, predictions))\n",
    "acc = accuracy_score(y_test, predictions)\n",
    "prec = precision_score(y_test, predictions)\n",
    "rec = recall_score(y_test, predictions)\n",
    "f1 = f1_score(y_test, predictions)\n",
    "acc_perc = np.round(acc*100, 2)\n",
    "print('\\nAccuracy=',str(acc_perc)+'%')\n",
    "\n",
    "accuracy_comp.append(acc_perc)\n",
    "precision_comp.append(prec)\n",
    "recall_comp.append(rec)\n",
    "f1score_comp.append(f1)"
   ]
  },
  {
   "cell_type": "markdown",
   "id": "4952b33a",
   "metadata": {},
   "source": [
    "###  \n",
    "## SVM\n",
    "###  "
   ]
  },
  {
   "cell_type": "code",
   "execution_count": 50,
   "id": "19f2d33e",
   "metadata": {},
   "outputs": [
    {
     "name": "stdout",
     "output_type": "stream",
     "text": [
      "Confusion Matrix:\n",
      " [[29 10]\n",
      " [ 7 60]]\n",
      "\n",
      "Classification Report:\n",
      "\n",
      "               precision    recall  f1-score   support\n",
      "\n",
      "           0       0.81      0.74      0.77        39\n",
      "           1       0.86      0.90      0.88        67\n",
      "\n",
      "    accuracy                           0.84       106\n",
      "   macro avg       0.83      0.82      0.82       106\n",
      "weighted avg       0.84      0.84      0.84       106\n",
      "\n",
      "\n",
      "Accuracy= 83.96%\n"
     ]
    }
   ],
   "source": [
    "from sklearn.svm import SVC\n",
    "svm = SVC(kernel='linear')\n",
    "svm.fit(x_train, y_train)\n",
    "predictions = svm.predict(x_test)\n",
    "\n",
    "print('Confusion Matrix:\\n',confusion_matrix(y_test, predictions))\n",
    "print('\\nClassification Report:\\n\\n',classification_report(y_test, predictions))\n",
    "acc = accuracy_score(y_test, predictions)\n",
    "prec = precision_score(y_test, predictions)\n",
    "rec = recall_score(y_test, predictions)\n",
    "f1 = f1_score(y_test, predictions)\n",
    "acc_perc = np.round(acc*100, 2)\n",
    "print('\\nAccuracy=',str(acc_perc)+'%')\n",
    "\n",
    "accuracy_comp.append(acc_perc)\n",
    "precision_comp.append(prec)\n",
    "recall_comp.append(rec)\n",
    "f1score_comp.append(f1)"
   ]
  },
  {
   "cell_type": "markdown",
   "id": "a67b9a99",
   "metadata": {},
   "source": [
    "###  \n",
    "## Naive Bayes - Gaussian\n",
    "###  "
   ]
  },
  {
   "cell_type": "code",
   "execution_count": 51,
   "id": "98c1619a",
   "metadata": {},
   "outputs": [
    {
     "name": "stdout",
     "output_type": "stream",
     "text": [
      "Confusion Matrix:\n",
      " [[28 11]\n",
      " [ 5 62]]\n",
      "\n",
      "Classification Report:\n",
      "\n",
      "               precision    recall  f1-score   support\n",
      "\n",
      "           0       0.85      0.72      0.78        39\n",
      "           1       0.85      0.93      0.89        67\n",
      "\n",
      "    accuracy                           0.85       106\n",
      "   macro avg       0.85      0.82      0.83       106\n",
      "weighted avg       0.85      0.85      0.85       106\n",
      "\n",
      "\n",
      "Accuracy= 84.91%\n"
     ]
    }
   ],
   "source": [
    "from sklearn.naive_bayes import GaussianNB\n",
    "nbb = GaussianNB()\n",
    "nbb.fit(x_train, y_train)\n",
    "predictions = nbb.predict(x_test)\n",
    "\n",
    "print('Confusion Matrix:\\n',confusion_matrix(y_test, predictions))\n",
    "print('\\nClassification Report:\\n\\n',classification_report(y_test, predictions))\n",
    "acc = accuracy_score(y_test, predictions)\n",
    "prec = precision_score(y_test, predictions)\n",
    "rec = recall_score(y_test, predictions)\n",
    "f1 = f1_score(y_test, predictions)\n",
    "acc_perc = np.round(acc*100, 2)\n",
    "print('\\nAccuracy=',str(acc_perc)+'%')\n",
    "\n",
    "accuracy_comp.append(acc_perc)\n",
    "precision_comp.append(prec)\n",
    "recall_comp.append(rec)\n",
    "f1score_comp.append(f1)"
   ]
  },
  {
   "cell_type": "markdown",
   "id": "60c46467",
   "metadata": {},
   "source": [
    "###  \n",
    "## Naive Bayes - Bernoulli\n",
    "###  "
   ]
  },
  {
   "cell_type": "code",
   "execution_count": 52,
   "id": "bb41b98b",
   "metadata": {
    "scrolled": true
   },
   "outputs": [
    {
     "name": "stdout",
     "output_type": "stream",
     "text": [
      "Confusion Matrix:\n",
      " [[26 13]\n",
      " [ 4 63]]\n",
      "\n",
      "Classification Report:\n",
      "\n",
      "               precision    recall  f1-score   support\n",
      "\n",
      "           0       0.87      0.67      0.75        39\n",
      "           1       0.83      0.94      0.88        67\n",
      "\n",
      "    accuracy                           0.84       106\n",
      "   macro avg       0.85      0.80      0.82       106\n",
      "weighted avg       0.84      0.84      0.83       106\n",
      "\n",
      "\n",
      "Accuracy= 83.96%\n"
     ]
    }
   ],
   "source": [
    "from sklearn.naive_bayes import BernoulliNB\n",
    "nbb = BernoulliNB()\n",
    "nbb.fit(x_train, y_train)\n",
    "predictions = nbb.predict(x_test)\n",
    "\n",
    "print('Confusion Matrix:\\n',confusion_matrix(y_test, predictions))\n",
    "print('\\nClassification Report:\\n\\n',classification_report(y_test, predictions))\n",
    "acc = accuracy_score(y_test, predictions)\n",
    "prec = precision_score(y_test, predictions)\n",
    "rec = recall_score(y_test, predictions)\n",
    "f1 = f1_score(y_test, predictions)\n",
    "acc_perc = np.round(acc*100, 2)\n",
    "print('\\nAccuracy=',str(acc_perc)+'%')\n",
    "\n",
    "accuracy_comp.append(acc_perc)\n",
    "precision_comp.append(prec)\n",
    "recall_comp.append(rec)\n",
    "f1score_comp.append(f1)"
   ]
  },
  {
   "cell_type": "markdown",
   "id": "95a71049",
   "metadata": {},
   "source": [
    "###  \n",
    "## RESULTS\n",
    "###  "
   ]
  },
  {
   "cell_type": "code",
   "execution_count": 53,
   "id": "5382e010",
   "metadata": {
    "scrolled": true
   },
   "outputs": [
    {
     "data": {
      "text/plain": [
       "Text(0.5, 1.0, 'Comparison Of Accuracy of the used ML models')"
      ]
     },
     "execution_count": 53,
     "metadata": {},
     "output_type": "execute_result"
    },
    {
     "data": {
      "image/png": "[encoded data removed]",
      "text/plain": [
       "<Figure size 1000x500 with 1 Axes>"
      ]
     },
     "metadata": {},
     "output_type": "display_data"
    }
   ],
   "source": [
    "plt.figure(figsize=(10,5))\n",
    "plt.plot(['Logistic \\nRegression','Decision \\nTree \\nClassifier','Random \\nForest \\nClassfier',\n",
    "         'XGBoost','KNN','SVM','Naive \\nBayes-\\nGaussian ','Naive \\nBayes-\\nBernoulli'],accuracy_comp, 'o-')\n",
    "plt.xlabel(\"Models\")\n",
    "plt.ylabel(\"Accuracy %\")\n",
    "plt.title(\"Comparison Of Accuracy of the used ML models\")"
   ]
  },
  {
   "cell_type": "code",
   "execution_count": 54,
   "id": "e5d484f6",
   "metadata": {
    "scrolled": false
   },
   "outputs": [
    {
     "name": "stdout",
     "output_type": "stream",
     "text": [
      "Accuracies of models are:\n",
      "\n",
      "Logistic Regression : 82.08%\n",
      "Decision Tree Classifier : 75.47%\n",
      "Random Forest Classfier : 78.3%\n",
      "XGBoost : 78.3%\n",
      "KNN : 75.47%\n",
      "SVM : 83.96%\n",
      "Naive Bayes-Gaussian  : 84.91%\n",
      "Naive Bayes-Bernoulli : 83.96%\n"
     ]
    }
   ],
   "source": [
    "models= ['Logistic Regression','Decision Tree Classifier','Random Forest Classfier',\n",
    "         'XGBoost','KNN','SVM','Naive Bayes-Gaussian ','Naive Bayes-Bernoulli']\n",
    "print('Accuracies of models are:\\n')\n",
    "for i in range(8) :\n",
    "        print(models[i],':',str(accuracy_comp[i])+'%')"
   ]
  },
  {
   "cell_type": "code",
   "execution_count": 55,
   "id": "13278f12",
   "metadata": {},
   "outputs": [
    {
     "data": {
      "text/plain": [
       "Text(0.5, 1.0, 'Comparison Of Precision of the used ML models')"
      ]
     },
     "execution_count": 55,
     "metadata": {},
     "output_type": "execute_result"
    },
    {
     "data": {
      "image/png": "[encoded data removed]",
      "text/plain": [
       "<Figure size 1000x500 with 1 Axes>"
      ]
     },
     "metadata": {},
     "output_type": "display_data"
    }
   ],
   "source": [
    "plt.figure(figsize=(10,5))\n",
    "plt.plot(['Logistic \\nRegression','Decision \\nTree \\nClassifier','Random \\nForest \\nClassfier',\n",
    "         'XGBoost','KNN','SVM','Naive \\nBayes-\\nGaussian ','Naive \\nBayes-\\nBernoulli'],precision_comp, 'o-')\n",
    "plt.xlabel(\"Models\")\n",
    "plt.ylabel(\"Precision\")\n",
    "plt.title(\"Comparison Of Precision of the used ML models\")"
   ]
  },
  {
   "cell_type": "code",
   "execution_count": 56,
   "id": "a2c3aef6",
   "metadata": {},
   "outputs": [
    {
     "name": "stdout",
     "output_type": "stream",
     "text": [
      "Precision of models are:\n",
      "\n",
      "Logistic Regression : 0.8243243243243243\n",
      "Decision Tree Classifier : 0.8059701492537313\n",
      "Random Forest Classfier : 0.7972972972972973\n",
      "XGBoost : 0.7972972972972973\n",
      "KNN : 0.759493670886076\n",
      "SVM : 0.8571428571428571\n",
      "Naive Bayes-Gaussian  : 0.8493150684931506\n",
      "Naive Bayes-Bernoulli : 0.8289473684210527\n"
     ]
    }
   ],
   "source": [
    "models= ['Logistic Regression','Decision Tree Classifier','Random Forest Classfier',\n",
    "         'XGBoost','KNN','SVM','Naive Bayes-Gaussian ','Naive Bayes-Bernoulli']\n",
    "print('Precision of models are:\\n')\n",
    "for i in range(8) :\n",
    "        print(models[i],':',str(precision_comp[i]))"
   ]
  },
  {
   "cell_type": "code",
   "execution_count": 57,
   "id": "091a2a39",
   "metadata": {},
   "outputs": [
    {
     "data": {
      "text/plain": [
       "Text(0.5, 1.0, 'Comparison Of Recall of the used ML models')"
      ]
     },
     "execution_count": 57,
     "metadata": {},
     "output_type": "execute_result"
    },
    {
     "data": {
      "image/png": "[encoded data removed]",
      "text/plain": [
       "<Figure size 1000x500 with 1 Axes>"
      ]
     },
     "metadata": {},
     "output_type": "display_data"
    }
   ],
   "source": [
    "plt.figure(figsize=(10,5))\n",
    "plt.plot(['Logistic \\nRegression','Decision \\nTree \\nClassifier','Random \\nForest \\nClassfier',\n",
    "         'XGBoost','KNN','SVM','Naive \\nBayes-\\nGaussian ','Naive \\nBayes-\\nBernoulli'],recall_comp, 'o-')\n",
    "plt.xlabel(\"Models\")\n",
    "plt.ylabel(\"Recall\")\n",
    "plt.title(\"Comparison Of Recall of the used ML models\")"
   ]
  },
  {
   "cell_type": "code",
   "execution_count": 58,
   "id": "8a70ed9e",
   "metadata": {
    "scrolled": true
   },
   "outputs": [
    {
     "name": "stdout",
     "output_type": "stream",
     "text": [
      "Recall of models are:\n",
      "\n",
      "Logistic Regression : 0.9104477611940298\n",
      "Decision Tree Classifier : 0.8059701492537313\n",
      "Random Forest Classfier : 0.8805970149253731\n",
      "XGBoost : 0.8805970149253731\n",
      "KNN : 0.8955223880597015\n",
      "SVM : 0.8955223880597015\n",
      "Naive Bayes-Gaussian  : 0.9253731343283582\n",
      "Naive Bayes-Bernoulli : 0.9402985074626866\n"
     ]
    }
   ],
   "source": [
    "models= ['Logistic Regression','Decision Tree Classifier','Random Forest Classfier',\n",
    "         'XGBoost','KNN','SVM','Naive Bayes-Gaussian ','Naive Bayes-Bernoulli']\n",
    "print('Recall of models are:\\n')\n",
    "for i in range(8) :\n",
    "        print(models[i],':',str(recall_comp[i]))"
   ]
  },
  {
   "cell_type": "code",
   "execution_count": 59,
   "id": "53ce753a",
   "metadata": {},
   "outputs": [
    {
     "data": {
      "text/plain": [
       "Text(0.5, 1.0, 'Comparison Of F1-Score of the used ML models')"
      ]
     },
     "execution_count": 59,
     "metadata": {},
     "output_type": "execute_result"
    },
    {
     "data": {
      "image/png": "[encoded data removed]",
      "text/plain": [
       "<Figure size 1000x500 with 1 Axes>"
      ]
     },
     "metadata": {},
     "output_type": "display_data"
    }
   ],
   "source": [
    "plt.figure(figsize=(10,5))\n",
    "plt.plot(['Logistic \\nRegression','Decision \\nTree \\nClassifier','Random \\nForest \\nClassfier',\n",
    "         'XGBoost','KNN','SVM','Naive \\nBayes-\\nGaussian ','Naive \\nBayes-\\nBernoulli'],f1score_comp, 'o-')\n",
    "plt.xlabel(\"Models\")\n",
    "plt.ylabel(\"F1-Score\")\n",
    "plt.title(\"Comparison Of F1-Score of the used ML models\")"
   ]
  },
  {
   "cell_type": "code",
   "execution_count": 60,
   "id": "d034691b",
   "metadata": {},
   "outputs": [
    {
     "name": "stdout",
     "output_type": "stream",
     "text": [
      "F1-Score of models are:\n",
      "\n",
      "Logistic Regression : 0.8652482269503546\n",
      "Decision Tree Classifier : 0.8059701492537313\n",
      "Random Forest Classfier : 0.8368794326241135\n",
      "XGBoost : 0.8368794326241135\n",
      "KNN : 0.8219178082191781\n",
      "SVM : 0.8759124087591241\n",
      "Naive Bayes-Gaussian  : 0.8857142857142857\n",
      "Naive Bayes-Bernoulli : 0.8811188811188811\n"
     ]
    }
   ],
   "source": [
    "models= ['Logistic Regression','Decision Tree Classifier','Random Forest Classfier',\n",
    "         'XGBoost','KNN','SVM','Naive Bayes-Gaussian ','Naive Bayes-Bernoulli']\n",
    "print('F1-Score of models are:\\n')\n",
    "for i in range(8) :\n",
    "        print(models[i],':',str(f1score_comp[i]))"
   ]
  },
  {
   "cell_type": "markdown",
   "id": "8175d1cd",
   "metadata": {},
   "source": [
    "## \n",
    "# END OF PROJECT\n",
    "## "
   ]
  }
 ],
 "metadata": {
  "kernelspec": {
   "display_name": "Python 3 (ipykernel)",
   "language": "python",
   "name": "python3"
  },
  "language_info": {
   "codemirror_mode": {
    "name": "ipython",
    "version": 3
   },
   "file_extension": ".py",
   "mimetype": "text/x-python",
   "name": "python",
   "nbconvert_exporter": "python",
   "pygments_lexer": "ipython3",
   "version": "3.9.13"
  }
 },
 "nbformat": 4,
 "nbformat_minor": 5
}
